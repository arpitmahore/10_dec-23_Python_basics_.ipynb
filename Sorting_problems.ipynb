{
  "nbformat": 4,
  "nbformat_minor": 0,
  "metadata": {
    "colab": {
      "provenance": []
    },
    "kernelspec": {
      "name": "python3",
      "display_name": "Python 3"
    },
    "language_info": {
      "name": "python"
    }
  },
  "cells": [
    {
      "cell_type": "markdown",
      "source": [
        "Problem 1.Given an array of n numbers, give an algorithm which gives the element appearing maximum\n",
        "number of times?"
      ],
      "metadata": {
        "id": "fss093GQTVMk"
      }
    },
    {
      "cell_type": "code",
      "execution_count": 2,
      "metadata": {
        "colab": {
          "base_uri": "https://localhost:8080/"
        },
        "id": "xT7lRqU0TSYx",
        "outputId": "dd4de1b3-c543-4990-9716-f9f1ffb92a9a"
      },
      "outputs": [
        {
          "output_type": "stream",
          "name": "stdout",
          "text": [
            "(1, 3)\n"
          ]
        }
      ],
      "source": [
        "def appearing_maximum(arr):\n",
        "    max_count = 0\n",
        "    max_element = 0\n",
        "    for i in range(len(arr)):\n",
        "        count =0\n",
        "        for j in range(len(arr)):\n",
        "            if arr[i] == arr[j]:\n",
        "                count += 1\n",
        "        if count > max_count:\n",
        "            max_count = count\n",
        "            max_element = arr[i]\n",
        "    return max_element, max_count\n",
        "\n",
        "\n",
        "print(appearing_maximum([1, 2, 3, 1, 2, 1]))"
      ]
    },
    {
      "cell_type": "markdown",
      "source": [
        "Problem 2 : We are given a list of n-1 integers and these integers are in the range of 1 to n . There are no\n",
        "duplicates in the list. One of the integers is missing in the list. Give an algorithm to find that element Ex:\n",
        "[1,2,4,6,3,7,8] 5 is the missing num."
      ],
      "metadata": {
        "id": "l1zqUJjnVKEC"
      }
    },
    {
      "cell_type": "code",
      "source": [
        "def missing_number(arr):\n",
        "\n",
        "    n=len(arr)\n",
        "    total=int((n+1)*(n+2)/2)\n",
        "    sum_arr=sum(arr)\n",
        "    return total-sum_arr\n",
        "\n",
        "print(missing_number([1,2,4,6,3,7,8]))"
      ],
      "metadata": {
        "colab": {
          "base_uri": "https://localhost:8080/"
        },
        "id": "jt797oUHVJQd",
        "outputId": "e259a885-85e2-4481-8756-0ece107e7505"
      },
      "execution_count": 7,
      "outputs": [
        {
          "output_type": "stream",
          "name": "stdout",
          "text": [
            "5\n"
          ]
        }
      ]
    },
    {
      "cell_type": "markdown",
      "source": [
        "Problem 3 : Given an array of n positive numbers. All numbers occurs even number of times except 1 which\n",
        "occurs odd number of times. Find that number in O(n) time and O(1) space. Ex: [1,2,3,2,3,1,3]. 3 is repeats odd\n",
        "times."
      ],
      "metadata": {
        "id": "NMTsUVCaX9pn"
      }
    },
    {
      "cell_type": "code",
      "source": [
        "def odd_number(arr):\n",
        "    res = 0\n",
        "    for i in arr:\n",
        "        res ^= i\n",
        "    return res\n",
        "\n",
        "print(odd_number([1,2,3,2,3,1,3]))\n",
        "#"
      ],
      "metadata": {
        "colab": {
          "base_uri": "https://localhost:8080/"
        },
        "id": "4ifVh9RqYidr",
        "outputId": "eea82185-919a-4b4e-be8e-e37384590056"
      },
      "execution_count": 9,
      "outputs": [
        {
          "output_type": "stream",
          "name": "stdout",
          "text": [
            "3\n"
          ]
        }
      ]
    },
    {
      "cell_type": "markdown",
      "source": [
        "Problem 5 : Given an array of both positive and negative numbers, find two numbers such that their sum is\n",
        "closest to 0. Ex: [ 1 ,60 ,-10, 70, -80,85]. Ans : -80,85."
      ],
      "metadata": {
        "id": "gGgchfJ-bwEu"
      }
    },
    {
      "cell_type": "code",
      "source": [
        "def find_closest_to_zero(arr):\n",
        "\n",
        "    arr.sort()\n",
        "\n",
        "    left = 0\n",
        "    right = len(arr) - 1\n",
        "    min_sum = float('inf')\n",
        "    closest_pair = (None, None)\n",
        "\n",
        "    while left < right:\n",
        "        current_sum = arr[left] + arr[right]\n",
        "\n",
        "        if abs(current_sum) < abs(min_sum):\n",
        "            min_sum = current_sum\n",
        "            closest_pair = (arr[left], arr[right])\n",
        "\n",
        "        if current_sum < 0:\n",
        "            left += 1\n",
        "        else:\n",
        "            right -= 1\n",
        "\n",
        "    return closest_pair\n",
        "\n",
        "arr = [1, 60, -10, 70, -80, 85]\n",
        "result = find_closest_to_zero(arr)\n",
        "print(\"The two numbers whose sum is closest to 0 are:\", result)\n"
      ],
      "metadata": {
        "colab": {
          "base_uri": "https://localhost:8080/"
        },
        "id": "HAHDMusKbx7p",
        "outputId": "b1d141ae-4e69-4dc6-b914-3d77a7278361"
      },
      "execution_count": 10,
      "outputs": [
        {
          "output_type": "stream",
          "name": "stdout",
          "text": [
            "The two numbers whose sum is closest to 0 are: (-80, 85)\n"
          ]
        }
      ]
    },
    {
      "cell_type": "markdown",
      "source": [
        "Problem 6 : Given an array of n elements . Find three elements such that their sum is equal to the given\n",
        "number."
      ],
      "metadata": {
        "id": "3SHHlWHkfA7m"
      }
    },
    {
      "cell_type": "code",
      "source": [
        "def find_three_elements(arr, target_sum):\n",
        "    arr.sort()\n",
        "    n = len(arr)\n",
        "\n",
        "    for i in range(n - 2):\n",
        "        left = i + 1\n",
        "        right = n - 1\n",
        "\n",
        "        while left < right:\n",
        "            current_sum = arr[i] + arr[left] + arr[right]\n",
        "\n",
        "            if current_sum == target_sum:\n",
        "                return (arr[i], arr[left], arr[right])\n",
        "\n",
        "            elif current_sum < target_sum:\n",
        "                left += 1\n",
        "            else:\n",
        "                right -= 1\n",
        "\n",
        "    return \"No Three element found\"\n",
        "\n",
        "arr = [12, 3, 4, 1, 6, 9]\n",
        "target_sum = 24\n",
        "result = find_three_elements(arr, target_sum)\n",
        "print(\"The triplet is:\", result)\n"
      ],
      "metadata": {
        "colab": {
          "base_uri": "https://localhost:8080/"
        },
        "id": "2CuGhrvVfJK9",
        "outputId": "4ba44f4b-b107-4f4a-9edd-4641e6b6fce1"
      },
      "execution_count": 19,
      "outputs": [
        {
          "output_type": "stream",
          "name": "stdout",
          "text": [
            "The triplet is: (3, 9, 12)\n"
          ]
        }
      ]
    },
    {
      "cell_type": "markdown",
      "source": [
        "Problem 7 : Given an array of n elements . Find three elements i, j, k in the array such that\n",
        "i * i + j * j = k*k."
      ],
      "metadata": {
        "id": "1ce-RfVIpMf2"
      }
    },
    {
      "cell_type": "code",
      "source": [
        "def find_pythagorean_triplet(arr):\n",
        "    n = len(arr)\n",
        "\n",
        "    squared_arr = [x**2 for x in arr]\n",
        "    squared_arr.sort()\n",
        "\n",
        "    for i in range(n - 1, 1, -1):\n",
        "        left = 0\n",
        "        right = i - 1\n",
        "\n",
        "        while left < right:\n",
        "            current_sum = squared_arr[left] + squared_arr[right]\n",
        "\n",
        "            if current_sum == squared_arr[i]:\n",
        "                return (arr[left], arr[right], arr[i])\n",
        "\n",
        "            elif current_sum < squared_arr[i]:\n",
        "                left += 1\n",
        "            else:\n",
        "                right -= 1\n",
        "\n",
        "    return \"No Pythagorean triplet found\"\n",
        "\n",
        "arr = [3, 1, 4, 6, 5]\n",
        "result = find_pythagorean_triplet(arr)\n",
        "print(\"The Pythagorean triplet is:\", result)\n"
      ],
      "metadata": {
        "colab": {
          "base_uri": "https://localhost:8080/"
        },
        "id": "PvaTNcRjpLf3",
        "outputId": "778be718-836d-4427-f7d9-f9ffa47399b4"
      },
      "execution_count": 20,
      "outputs": [
        {
          "output_type": "stream",
          "name": "stdout",
          "text": [
            "The Pythagorean triplet is: (1, 4, 6)\n"
          ]
        }
      ]
    },
    {
      "cell_type": "markdown",
      "source": [
        "Problem 8 : An element is a majority if it appears more than n/2 times. Give an algorithm takes an array of n\n",
        "element as argument and identifies a majority (if it exists)."
      ],
      "metadata": {
        "id": "QLXdDWsKpl8X"
      }
    },
    {
      "cell_type": "code",
      "source": [
        "def find_majority(arr):\n",
        "    n = len(arr)\n",
        "    candidate = None\n",
        "    count = 0\n",
        "\n",
        "    for num in arr:\n",
        "        if count == 0:\n",
        "            candidate = num\n",
        "        count += (1 if num == candidate else -1)\n",
        "\n",
        "    count = 0\n",
        "    for num in arr:\n",
        "        if num == candidate:\n",
        "            count += 1\n",
        "\n",
        "    if count > n // 2:\n",
        "        return candidate\n",
        "    else:\n",
        "        return \"No majority element found\"\n",
        "\n",
        "arr1 = [3, 3, 4, 2, 4, 4, 2, 4, 4]\n",
        "result1 = find_majority(arr1)\n",
        "print(\"Majority element in arr1:\", result1)\n",
        "\n",
        "arr2 = [3, 3, 4, 2, 4, 4, 2, 4]\n",
        "result2 = find_majority(arr2)\n",
        "print(\"Majority element in arr2:\", result2)\n"
      ],
      "metadata": {
        "colab": {
          "base_uri": "https://localhost:8080/"
        },
        "id": "Moqz-T4kprcz",
        "outputId": "ec89ab78-1a4f-4bb0-bcec-95e9eae60c2e"
      },
      "execution_count": 21,
      "outputs": [
        {
          "output_type": "stream",
          "name": "stdout",
          "text": [
            "Majority element in arr1: 4\n",
            "Majority element in arr2: No majority element found\n"
          ]
        }
      ]
    },
    {
      "cell_type": "markdown",
      "source": [
        "Problem 9 : Given n × n matrix, and in each row all 1’s are followed by 0’s. Find the row with the maximum\n",
        "number of 0’s."
      ],
      "metadata": {
        "id": "r_-nZLxMqD88"
      }
    },
    {
      "cell_type": "code",
      "source": [
        "def find_row_with_max_zeros(matrix):\n",
        "  max_zeros = 0\n",
        "  max_row_index = -1\n",
        "\n",
        "  for i in range(len(matrix)):\n",
        "    count_zeros = matrix[i].count(0)\n",
        "    if count_zeros > max_zeros:\n",
        "      max_zeros = count_zeros\n",
        "      max_row_index = i\n",
        "\n",
        "  return max_row_index\n",
        "\n",
        "matrix = [\n",
        "  [1, 1, 1, 0, 0],\n",
        "  [1, 0, 0, 0, 0],\n",
        "  [1, 1, 0, 0, 0],\n",
        "  [1, 1, 1, 1, 0],\n",
        "  [1, 1, 1, 1, 1]\n",
        "]\n",
        "\n",
        "row_index = find_row_with_max_zeros(matrix)\n",
        "\n",
        "if row_index != -1:\n",
        "  print(\"Row with maximum zeros:\", row_index)\n",
        "else:\n",
        "  print(\"No zeros found in the matrix\")\n"
      ],
      "metadata": {
        "colab": {
          "base_uri": "https://localhost:8080/"
        },
        "id": "LoJg285nx_Lb",
        "outputId": "a05b2448-00ca-4938-94b4-686eefc85561"
      },
      "execution_count": 22,
      "outputs": [
        {
          "output_type": "stream",
          "name": "stdout",
          "text": [
            "Row with maximum zeros: 1\n"
          ]
        }
      ]
    },
    {
      "cell_type": "markdown",
      "source": [
        "Problem 10 : Sort an array of 0’s, 1’s and 2’s [or R’s, G’s and B’s]: Given an array A[] consisting of 0’s, 1’s and\n",
        "2’s, give an algorithm for sorting A[].The algorithm should put all 0’s first, then all 1’s and finally all 2’s at the\n",
        "end. Example Input = {0,1,1,0,1,2,1,2,0,0,0,1}, Output = {0,0,0,0,0,1,1,1,1,1,2,2}"
      ],
      "metadata": {
        "id": "git-NajdyZUN"
      }
    },
    {
      "cell_type": "code",
      "source": [
        "def sort_012(arr):\n",
        "  low = 0\n",
        "  mid = 0\n",
        "  high = len(arr) - 1\n",
        "\n",
        "  while mid <= high:\n",
        "    if arr[mid] == 0:\n",
        "      arr[low], arr[mid] = arr[mid], arr[low]\n",
        "      low += 1\n",
        "      mid += 1\n",
        "    elif arr[mid] == 1:\n",
        "      mid += 1\n",
        "    else:\n",
        "      arr[mid], arr[high] = arr[high], arr[mid]\n",
        "      high -= 1\n",
        "\n",
        "  return arr\n",
        "\n",
        "input_array = [0, 1, 1, 0, 1, 2, 1, 2, 0, 0, 0, 1]\n",
        "sorted_array = sort_012(input_array)\n",
        "print(\"Sorted array:\", sorted_array)\n"
      ],
      "metadata": {
        "colab": {
          "base_uri": "https://localhost:8080/"
        },
        "id": "8xxTo8Qjyodl",
        "outputId": "cab46d1b-1388-49b0-92a2-81c6615cd439"
      },
      "execution_count": 23,
      "outputs": [
        {
          "output_type": "stream",
          "name": "stdout",
          "text": [
            "Sorted array: [0, 0, 0, 0, 0, 1, 1, 1, 1, 1, 2, 2]\n"
          ]
        }
      ]
    }
  ]
}